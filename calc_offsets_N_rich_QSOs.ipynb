{
 "cells": [
  {
   "cell_type": "code",
   "execution_count": 2,
   "metadata": {
    "collapsed": false
   },
   "outputs": [],
   "source": [
    "from astropy.io import ascii\n",
    "import numpy as np\n",
    "from astropy import units as u\n",
    "from astropy.coordinates import SkyCoord\n",
    "import math\n",
    "\n",
    "# read in file downloaded from SDSS\n",
    "sdss_file = ascii.read('N_rich_QSOs_w_offsets.csv',format='csv')\n",
    " \n",
    "# I had stupid naming convention in output file\n",
    "# ra, dec: of bright offset star\n",
    "# ra_deg, dec_deg: of QSO\n",
    "offset_coords = SkyCoord(ra=sdss_file[\"ra\"],dec=sdss_file[\"dec\"],unit=(u.deg,u.deg))\n",
    "qso_coords = SkyCoord(ra=sdss_file[\"ra_deg\"],dec=sdss_file[\"dec_deg\"],unit=(u.deg,u.deg))"
   ]
  },
  {
   "cell_type": "code",
   "execution_count": 107,
   "metadata": {
    "collapsed": false
   },
   "outputs": [],
   "source": [
    "# only keep 1 offset star, the one that's closest\n",
    "[unique_srcs,unique_inds] = np.unique(sdss_file[\"name\"],return_index=True)\n",
    "offset_rmag_keep = np.empty(len(unique_srcs))\n",
    "\n",
    "# set up arrays to hold sexagesimal RA and Dec of offset star\n",
    "offset_ra_out  = []\n",
    "offset_dec_out = []\n",
    "\n",
    "offset_ra_out_deg  = np.empty(len(unique_srcs))\n",
    "offset_dec_out_deg = np.empty(len(unique_srcs))\n",
    "\n",
    "# set up arrays to hold offsets in RA and Dec\n",
    "del_ra  = np.empty(len(unique_srcs))\n",
    "del_dec = np.empty(len(unique_srcs))\n",
    "\n",
    "# cycle through each source\n",
    "for i in range(0,len(unique_srcs)):\n",
    "    \n",
    "    # find the offset stars associated with this star\n",
    "    match = np.where(sdss_file[\"name\"] == unique_srcs[i])\n",
    "    \n",
    "    # find the closest offset star\n",
    "    dis  = qso_coords[unique_inds][i].separation(offset_coords[match]).arcsecond\n",
    "    keep = np.where(dis == min(dis))\n",
    "    \n",
    "    # calculate offset from offset star TO target\n",
    "    dra,ddec = offset_coords[match][keep].spherical_offsets_to(qso_coords[unique_inds][i])\n",
    "    \n",
    "    del_ra[i]  = np.round(dra.to(u.arcsec)/u.arcsec,1)\n",
    "    del_dec[i] = np.round(ddec.to(u.arcsec)/u.arcsec,1)\n",
    "    \n",
    "    # for output file, save RA and Dec of preferred offset star in sexagesimal format    \n",
    "    offset_ra_out.append(offset_coords.ra[match][keep].to_string(u.hourangle,sep=':',pad=True,precision=2))\n",
    "    offset_dec_out.append(offset_coords.dec[match][keep].to_string(u.degree,sep=':',pad=True,precision=1))\n",
    "    \n",
    "    # to save file, use degrees, convert in topcat since I can't get sexagesimal format to save\n",
    "    # and I need to move on with my life\n",
    "    offset_ra_out_deg[i]  = offset_coords.ra[match][keep].deg\n",
    "    offset_dec_out_deg[i] = offset_coords.dec[match][keep].deg\n",
    "    \n",
    "    offset_rmag_keep[i] = sdss_file[\"r\"][match][keep]\n",
    "    \n",
    "offset_ra_out  = np.array(offset_ra_out)  \n",
    "offset_dec_out = np.array(offset_dec_out)"
   ]
  },
  {
   "cell_type": "code",
   "execution_count": 111,
   "metadata": {
    "collapsed": false
   },
   "outputs": [],
   "source": [
    "# write output file \n",
    "#ascii.write([sdss_file[\"name\"][unique_inds],offset_ra_out,offset_dec_out,offset_rmag_keep,\\\n",
    "#             qso_coords.ra[unique_inds].to_string(u.hourangle,sep=':',pad=True,precision=2),\\\n",
    "#             qso_coords.dec[unique_inds].to_string(u.deg,sep=':',pad=True,precision=1),\\\n",
    "#             sdss_file[\"imag\"][unique_inds],\\\n",
    "#             sdss_file[\"comment\"][unique_inds]],\\\n",
    "#             'N_rich_QSOs_offsets_calculated.txt',\\\n",
    "#            names=[\"Name\",\"Offset_RA\",\"Offset_Dec\",\"r_mag\",\\\n",
    "#                  \"Targ_RA\",\"Targ_Dec\",\"i_mag\",\"comment\"],\\\n",
    "#            overwrite=True)\n",
    "\n",
    "ascii.write([sdss_file[\"name\"][unique_inds],offset_ra_out_deg,offset_dec_out_deg,np.round(offset_rmag_keep,2),\\\n",
    "             qso_coords.ra[unique_inds].deg,qso_coords.dec[unique_inds].deg,\\\n",
    "             sdss_file[\"imag\"][unique_inds],del_ra,del_dec,\\\n",
    "             sdss_file[\"comment\"][unique_inds]],\\\n",
    "             'N_rich_QSOs_offsets_calculated.txt',\\\n",
    "            names=[\"Name\",\"Offset_RA\",\"Offset_Dec\",\"r_mag\",\\\n",
    "                  \"Targ_RA\",\"Targ_Dec\",\"i_mag\",\"del_RA\",\"Del_Dec\",\"comment\"],\\\n",
    "            overwrite=True,format=\"commented_header\")\n",
    "\n",
    "\n"
   ]
  },
  {
   "cell_type": "markdown",
   "metadata": {},
   "source": []
  }
 ],
 "metadata": {
  "kernelspec": {
   "display_name": "Python 3",
   "language": "python",
   "name": "python3"
  },
  "language_info": {
   "codemirror_mode": {
    "name": "ipython",
    "version": 3
   },
   "file_extension": ".py",
   "mimetype": "text/x-python",
   "name": "python",
   "nbconvert_exporter": "python",
   "pygments_lexer": "ipython3",
   "version": "3.5.2"
  }
 },
 "nbformat": 4,
 "nbformat_minor": 2
}
